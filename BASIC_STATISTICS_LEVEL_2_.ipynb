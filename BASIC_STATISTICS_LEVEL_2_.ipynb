{
  "nbformat": 4,
  "nbformat_minor": 0,
  "metadata": {
    "colab": {
      "provenance": []
    },
    "kernelspec": {
      "name": "python3",
      "display_name": "Python 3"
    },
    "language_info": {
      "name": "python"
    }
  },
  "cells": [
    {
      "cell_type": "code",
      "execution_count": 1,
      "metadata": {
        "id": "b8kQSORqVC_k"
      },
      "outputs": [],
      "source": [
        "import pandas as pd\n",
        "import numpy as np\n",
        "import seaborn as sns\n",
        "import scipy.stats as stats\n",
        "import statsmodels.api as smf\n",
        "import warnings\n",
        "warnings.filterwarnings('ignore')\n"
      ]
    },
    {
      "cell_type": "code",
      "source": [
        "name_of_company=pd.Series(['Allied Signal',' Bankers Trust','General Mills','ITT Industries','J.P.Morgan & Co','Lehman Brothers','Marriott','MCI','Merrill Lynch','Microsoft','Morgan Stanley','Sun Microsystems','Travelers','US Airways','Warner-Lambert'])\n",
        "measure_x=pd.Series([24.23,25.53,25.41,24.14,29.62,28.25,25.81,24.39,40.26,32.95,91.36,25.99,39.42,26.71,35.00])\n"
      ],
      "metadata": {
        "id": "1Kb_xO_mVPb5"
      },
      "execution_count": 2,
      "outputs": []
    },
    {
      "cell_type": "code",
      "source": [
        "measure_x.info()"
      ],
      "metadata": {
        "colab": {
          "base_uri": "https://localhost:8080/"
        },
        "id": "Coj_BpDmVUzX",
        "outputId": "cad02bca-826e-43b1-b039-ed2132c85091"
      },
      "execution_count": 3,
      "outputs": [
        {
          "output_type": "stream",
          "name": "stdout",
          "text": [
            "<class 'pandas.core.series.Series'>\n",
            "RangeIndex: 15 entries, 0 to 14\n",
            "Series name: None\n",
            "Non-Null Count  Dtype  \n",
            "--------------  -----  \n",
            "15 non-null     float64\n",
            "dtypes: float64(1)\n",
            "memory usage: 248.0 bytes\n"
          ]
        }
      ]
    },
    {
      "cell_type": "code",
      "source": [
        "#Finding outliers\n",
        "sns.boxplot(measure_x,orient='h')\n",
        "#From boxplot we can see Outlier is present at 90% around.So Morgan Stanley with 91.36% is the Outlier."
      ],
      "metadata": {
        "colab": {
          "base_uri": "https://localhost:8080/",
          "height": 447
        },
        "id": "_aRIk_VcVaZo",
        "outputId": "369b62ba-a238-4791-c444-8fcc228894c1"
      },
      "execution_count": 4,
      "outputs": [
        {
          "output_type": "execute_result",
          "data": {
            "text/plain": [
              "<Axes: >"
            ]
          },
          "metadata": {},
          "execution_count": 4
        },
        {
          "output_type": "display_data",
          "data": {
            "text/plain": [
              "<Figure size 640x480 with 1 Axes>"
            ],
            "image/png": "[encoded data removed]"
          },
          "metadata": {}
        }
      ]
    },
    {
      "cell_type": "code",
      "source": [
        "#Finding Mean(𝜇),Standard Deviation(𝜎),Variance(𝜎2)\n",
        "#Mean(𝜇)\n",
        "print(\"Mean(𝜇)=\",measure_x.mean())\n",
        "print(\"Standard Deviation(𝜎)=\",measure_x.std())\n",
        "print(\"Variance(𝜎2)=\",measure_x.var())"
      ],
      "metadata": {
        "colab": {
          "base_uri": "https://localhost:8080/"
        },
        "id": "K29tCb6YVeb-",
        "outputId": "c194bf72-0d55-4842-cae7-ab3fe7b734c2"
      },
      "execution_count": 5,
      "outputs": [
        {
          "output_type": "stream",
          "name": "stdout",
          "text": [
            "Mean(𝜇)= 33.27133333333333\n",
            "Standard Deviation(𝜎)= 16.945400921222028\n",
            "Variance(𝜎2)= 287.1466123809524\n"
          ]
        }
      ]
    },
    {
      "cell_type": "code",
      "source": [],
      "metadata": {
        "id": "Ng5RRE80VjY1"
      },
      "execution_count": null,
      "outputs": []
    }
  ]
}